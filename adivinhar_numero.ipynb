{
  "nbformat": 4,
  "nbformat_minor": 0,
  "metadata": {
    "colab": {
      "provenance": [],
      "authorship_tag": "ABX9TyOhpbLdDTWEoXTR/OCLyBn+",
      "include_colab_link": true
    },
    "kernelspec": {
      "name": "python3",
      "display_name": "Python 3"
    },
    "language_info": {
      "name": "python"
    }
  },
  "cells": [
    {
      "cell_type": "markdown",
      "metadata": {
        "id": "view-in-github",
        "colab_type": "text"
      },
      "source": [
        "<a href=\"https://colab.research.google.com/github/matheushrq/python-support/blob/main/adivinhar_numero.ipynb\" target=\"_parent\"><img src=\"https://colab.research.google.com/assets/colab-badge.svg\" alt=\"Open In Colab\"/></a>"
      ]
    },
    {
      "cell_type": "markdown",
      "source": [
        "<h1>Adivinhe o número!</h1>\n",
        "\n",
        "<h3>Jogo simples em python para adivinhar um número aleatório.</h3>"
      ],
      "metadata": {
        "id": "JlDPi_eNax_R"
      }
    },
    {
      "cell_type": "code",
      "execution_count": null,
      "metadata": {
        "id": "_Tkp364IaufK"
      },
      "outputs": [],
      "source": [
        "import random\n",
        "\n",
        "numero_aleatorio = random.randint(1, 10)\n",
        "tentativa = None\n",
        "\n",
        "print(\"Tente adivinhar qual o número entre 1 e 10!\")\n",
        "\n",
        "while(tentativa != numero_aleatorio):\n",
        "    tentativa = int(input(\"Digite um número: \"))\n",
        "    if(tentativa < numero_aleatorio):\n",
        "      print(\"Está abaixo.\")\n",
        "    elif(tentativa > numero_aleatorio):\n",
        "      print(\"Está acima.\")\n",
        "    else:\n",
        "      print(\"Parabéns! Você acertou!\")\n",
        "      break"
      ]
    }
  ]
}
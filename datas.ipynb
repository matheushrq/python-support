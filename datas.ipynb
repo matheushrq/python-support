{
  "nbformat": 4,
  "nbformat_minor": 0,
  "metadata": {
    "colab": {
      "provenance": [],
      "authorship_tag": "ABX9TyPQxXYYBxYrbBkHQ7HBwdgn",
      "include_colab_link": true
    },
    "kernelspec": {
      "name": "python3",
      "display_name": "Python 3"
    },
    "language_info": {
      "name": "python"
    }
  },
  "cells": [
    {
      "cell_type": "markdown",
      "metadata": {
        "id": "view-in-github",
        "colab_type": "text"
      },
      "source": [
        "<a href=\"https://colab.research.google.com/github/matheushrq/python-support/blob/main/datas.ipynb\" target=\"_parent\"><img src=\"https://colab.research.google.com/assets/colab-badge.svg\" alt=\"Open In Colab\"/></a>"
      ]
    },
    {
      "cell_type": "markdown",
      "source": [
        "<h2>Trabalhando com datas</h2>"
      ],
      "metadata": {
        "id": "7208quGs8cN8"
      }
    },
    {
      "cell_type": "code",
      "execution_count": null,
      "metadata": {
        "colab": {
          "base_uri": "https://localhost:8080/"
        },
        "id": "4nAXsi4y8ZDw",
        "outputId": "1933285f-0960-4f13-dd10-e0c345b71500"
      },
      "outputs": [
        {
          "output_type": "stream",
          "name": "stdout",
          "text": [
            "2025-08-14 14:18:37.984538\n"
          ]
        }
      ],
      "source": [
        "import datetime\n",
        "\n",
        "data_hora_hoje = datetime.datetime.now()\n",
        "print(data_hora_hoje)"
      ]
    },
    {
      "cell_type": "code",
      "source": [
        "import datetime\n",
        "\n",
        "# Isso imprimirá a data e a hora em um formato mais legível\n",
        "data_hora_hoje = datetime.datetime.now()\n",
        "data_formatada = data_hora_hoje.strftime(\"%d/%m/%Y %H:%M:%S\")\n",
        "print(data_formatada)"
      ],
      "metadata": {
        "colab": {
          "base_uri": "https://localhost:8080/"
        },
        "id": "KKGXc9qa8wvq",
        "outputId": "509a7517-f6be-40a0-fe95-40ba26ffc183"
      },
      "execution_count": null,
      "outputs": [
        {
          "output_type": "stream",
          "name": "stdout",
          "text": [
            "14/08/2025 14:20:13\n"
          ]
        }
      ]
    },
    {
      "cell_type": "code",
      "source": [
        "# funções para formatação de data\n",
        "\n",
        "import datetime\n",
        "\n",
        "data_hora_hoje = datetime.datetime.now() # Retorna a data e hora atuais, com opções de formatação.\n",
        "#data_hora_hoje = datetime.today() # Retorna a data e hora atuais (similar a now(), mas menos flexível para formatação).\n",
        "data_hora_hoje = datetime.date.today() # Retorna apenas a data atual.\n",
        "data_hora_hoje = datetime.time() # Retorna apenas a hora atual."
      ],
      "metadata": {
        "id": "F2DXLLHm9Kdz"
      },
      "execution_count": null,
      "outputs": []
    }
  ]
}